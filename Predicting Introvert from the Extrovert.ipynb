{
 "cells": [
  {
   "cell_type": "markdown",
   "id": "4a2a6c3b",
   "metadata": {},
   "source": [
    "# Project \n",
    "## Kaggle Competition-Predicting Introvert from the Extrovert"
   ]
  },
  {
   "cell_type": "code",
   "execution_count": 1,
   "id": "1fcc67ad",
   "metadata": {},
   "outputs": [
    {
     "ename": "ModuleNotFoundError",
     "evalue": "No module named 'lightgbm'",
     "output_type": "error",
     "traceback": [
      "\u001b[31m---------------------------------------------------------------------------\u001b[39m",
      "\u001b[31mModuleNotFoundError\u001b[39m                       Traceback (most recent call last)",
      "\u001b[36mCell\u001b[39m\u001b[36m \u001b[39m\u001b[32mIn[1]\u001b[39m\u001b[32m, line 10\u001b[39m\n\u001b[32m      8\u001b[39m \u001b[38;5;28;01mfrom\u001b[39;00m\u001b[38;5;250m \u001b[39m\u001b[34;01msklearn\u001b[39;00m\u001b[34;01m.\u001b[39;00m\u001b[34;01mensemble\u001b[39;00m\u001b[38;5;250m \u001b[39m\u001b[38;5;28;01mimport\u001b[39;00m RandomForestClassifier, GradientBoostingClassifier, StackingClassifier\n\u001b[32m      9\u001b[39m \u001b[38;5;28;01mfrom\u001b[39;00m\u001b[38;5;250m \u001b[39m\u001b[34;01mxgboost\u001b[39;00m\u001b[38;5;250m \u001b[39m\u001b[38;5;28;01mimport\u001b[39;00m XGBClassifier\n\u001b[32m---> \u001b[39m\u001b[32m10\u001b[39m \u001b[38;5;28;01mfrom\u001b[39;00m\u001b[38;5;250m \u001b[39m\u001b[34;01mlightgbm\u001b[39;00m\u001b[38;5;250m \u001b[39m\u001b[38;5;28;01mimport\u001b[39;00m LGBMClassifier\n\u001b[32m     11\u001b[39m \u001b[38;5;28;01mfrom\u001b[39;00m\u001b[38;5;250m \u001b[39m\u001b[34;01mcatboost\u001b[39;00m\u001b[38;5;250m \u001b[39m\u001b[38;5;28;01mimport\u001b[39;00m CatBoostClassifier\n\u001b[32m     13\u001b[39m train=pd.read_csv(\u001b[33mr\u001b[39m\u001b[33m\"\u001b[39m\u001b[33mC:\u001b[39m\u001b[33m\\\u001b[39m\u001b[33mUsers\u001b[39m\u001b[33m\\\u001b[39m\u001b[33muser\u001b[39m\u001b[33m\\\u001b[39m\u001b[33mDesktop\u001b[39m\u001b[33m\\\u001b[39m\u001b[33mKaggle Competitions\u001b[39m\u001b[33m\\\u001b[39m\u001b[33mplayground-series-s5e7\u001b[39m\u001b[33m\\\u001b[39m\u001b[33mtrain.csv\u001b[39m\u001b[33m\"\u001b[39m)\n",
      "\u001b[31mModuleNotFoundError\u001b[39m: No module named 'lightgbm'"
     ]
    }
   ],
   "source": [
    "# 📦 IMPORT LIBRARIES\n",
    "import pandas as pd\n",
    "import numpy as np\n",
    "\n",
    "from sklearn.model_selection import StratifiedKFold\n",
    "from sklearn.preprocessing import LabelEncoder, StandardScaler\n",
    "from sklearn.metrics import accuracy_score\n",
    "from sklearn.ensemble import RandomForestClassifier, GradientBoostingClassifier, StackingClassifier\n",
    "from xgboost import XGBClassifier\n",
    "from lightgbm import LGBMClassifier\n",
    "from catboost import CatBoostClassifier\n",
    "\n",
    "train=pd.read_csv(r\"C:\\Users\\user\\Desktop\\Kaggle Competitions\\playground-series-s5e7\\train.csv\")\n",
    "test=pd.read_csv(r\"C:\\Users\\user\\Desktop\\Kaggle Competitions\\playground-series-s5e7\\test.csv\")\n",
    "submission=pd.read_csv(r\"C:\\Users\\user\\Desktop\\Kaggle Competitions\\playground-series-s5e7\\sample_submission.csv\")\n",
    "\n",
    "# 🎯 TARGET AND FEATURES\n",
    "X = train.drop(columns=[\"id\", \"Personality\"])\n",
    "y = train[\"Personality\"]\n",
    "test_ids = test[\"id\"]\n",
    "X_test = test.drop(columns=[\"id\"])\n",
    "\n",
    "# 🧠 ENCODE CATEGORICALS IF ANY (here assuming all numerical)\n",
    "le_y = LabelEncoder()\n",
    "y_enc = le_y.fit_transform(y)\n",
    "\n",
    "# 🔍 SCALING\n",
    "scaler = StandardScaler()\n",
    "X_scaled = scaler.fit_transform(X)\n",
    "X_test_scaled = scaler.transform(X_test)\n",
    "\n",
    "# 🧱 BASE MODELS\n",
    "xgb = XGBClassifier(n_estimators=500, max_depth=6, learning_rate=0.03, subsample=0.8,\n",
    "                    colsample_bytree=0.9, random_state=42, use_label_encoder=False, eval_metric='mlogloss')\n",
    "lgbm = LGBMClassifier(n_estimators=600, learning_rate=0.03, max_depth=7, subsample=0.9, colsample_bytree=0.9, random_state=42)\n",
    "cat = CatBoostClassifier(iterations=400, depth=6, learning_rate=0.03, verbose=0, random_seed=42)\n",
    "rf = RandomForestClassifier(n_estimators=400, max_depth=10, random_state=42)\n",
    "\n",
    "# 🧠 STACKING MODEL\n",
    "stack = StackingClassifier(\n",
    "    estimators=[('xgb', xgb), ('lgbm', lgbm), ('cat', cat), ('rf', rf)],\n",
    "    final_estimator=GradientBoostingClassifier(n_estimators=200, learning_rate=0.05, max_depth=5),\n",
    "    cv=5,\n",
    "    n_jobs=-1,\n",
    "    passthrough=True\n",
    ")\n",
    "\n",
    "# 🎓 CROSS VALIDATION\n",
    "skf = StratifiedKFold(n_splits=5, shuffle=True, random_state=42)\n",
    "for fold, (train_idx, val_idx) in enumerate(skf.split(X_scaled, y_enc)):\n",
    "    X_train_fold, X_val_fold = X_scaled[train_idx], X_scaled[val_idx]\n",
    "    y_train_fold, y_val_fold = y_enc[train_idx], y_enc[val_idx]\n",
    "    \n",
    "    stack.fit(X_train_fold, y_train_fold)\n",
    "    val_preds = stack.predict(X_val_fold)\n",
    "    acc = accuracy_score(y_val_fold, val_preds)\n",
    "    print(f\"Fold {fold + 1} Accuracy: {round(acc, 4)}\")\n",
    "\n",
    "# 🧪 FINAL PREDICTIONS\n",
    "final_preds = stack.predict(X_test_scaled)\n",
    "submission[\"Personality\"] = le_y.inverse_transform(final_preds)\n",
    "submission.to_csv(\"submission.csv\", index=False)\n"
   ]
  }
 ],
 "metadata": {
  "kernelspec": {
   "display_name": "Python 3",
   "language": "python",
   "name": "python3"
  },
  "language_info": {
   "codemirror_mode": {
    "name": "ipython",
    "version": 3
   },
   "file_extension": ".py",
   "mimetype": "text/x-python",
   "name": "python",
   "nbconvert_exporter": "python",
   "pygments_lexer": "ipython3",
   "version": "3.12.4"
  }
 },
 "nbformat": 4,
 "nbformat_minor": 5
}
