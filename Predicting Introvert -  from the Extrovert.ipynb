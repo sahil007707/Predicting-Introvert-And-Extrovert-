{
 "cells": [
  {
   "cell_type": "code",
   "execution_count": 1,
   "id": "d917e857",
   "metadata": {},
   "outputs": [],
   "source": [
    "import pandas as pd\n",
    "import seaborn as sns\n",
    "import numpy as np\n",
    "import matplotlib.pyplot as plt\n",
    "import plotly.express as px\n",
    "import warnings\n",
    "warnings.filterwarnings(\"ignore\")"
   ]
  },
  {
   "cell_type": "code",
   "execution_count": 5,
   "id": "5434312f",
   "metadata": {},
   "outputs": [],
   "source": [
    "# Load data\n",
    "import pandas as pd\n",
    "from sklearn.preprocessing import LabelEncoder, StandardScaler\n",
    "from xgboost import XGBClassifier\n",
    "\n",
    "train=pd.read_csv(r\"C:\\Users\\user\\Desktop\\Kaggle Competitions\\playground-series-s5e7\\train.csv\")\n",
    "test=pd.read_csv(r\"C:\\Users\\user\\Desktop\\Kaggle Competitions\\playground-series-s5e7\\test.csv\")\n",
    "submission=pd.read_csv(r\"C:\\Users\\user\\Desktop\\Kaggle Competitions\\playground-series-s5e7\\sample_submission.csv\")\n",
    "\n",
    "# Prepare data\n",
    "X = train.drop(columns=[\"id\", \"Personality\"])\n",
    "y = train[\"Personality\"]\n",
    "test_ids = test[\"id\"]\n",
    "X_test = test.drop(columns=[\"id\"])\n",
    "\n",
    "# Encode categorical features\n",
    "for col in X.select_dtypes(include=\"object\").columns:\n",
    "    le = LabelEncoder()\n",
    "    X[col] = le.fit_transform(X[col])\n",
    "    X_test[col] = le.transform(X_test[col])\n",
    "\n",
    "# Encode target\n",
    "le_y = LabelEncoder()\n",
    "y_encoded = le_y.fit_transform(y)\n",
    "\n",
    "# Scale features\n",
    "scaler = StandardScaler()\n",
    "X_scaled = scaler.fit_transform(X)\n",
    "X_test_scaled = scaler.transform(X_test)\n",
    "\n",
    "# Train model\n",
    "model = XGBClassifier(\n",
    "    n_estimators=500,\n",
    "    learning_rate=0.03,\n",
    "    max_depth=5,\n",
    "    subsample=0.85,\n",
    "    colsample_bytree=0.9,\n",
    "    gamma=0.1,\n",
    "    reg_alpha=0.3,\n",
    "    reg_lambda=0.8,\n",
    "    use_label_encoder=False,\n",
    "    eval_metric='mlogloss',\n",
    "    random_state=42\n",
    ")\n",
    "model.fit(X_scaled, y_encoded)\n",
    "\n",
    "# Predict and create submission\n",
    "preds = model.predict(X_test_scaled)\n",
    "pred_labels = le_y.inverse_transform(preds)\n",
    "\n",
    "submission = pd.DataFrame({\n",
    "    \"id\": test_ids,\n",
    "    \"Personality\": pred_labels\n",
    "})\n",
    "submission.to_csv(r\"c:\\Users\\user\\Desktop\\Kaggle Competitions\\playground-series-s5e7\\submissionXF.csv\", index=False)"
   ]
  }
 ],
 "metadata": {
  "kernelspec": {
   "display_name": "Python 3",
   "language": "python",
   "name": "python3"
  },
  "language_info": {
   "codemirror_mode": {
    "name": "ipython",
    "version": 3
   },
   "file_extension": ".py",
   "mimetype": "text/x-python",
   "name": "python",
   "nbconvert_exporter": "python",
   "pygments_lexer": "ipython3",
   "version": "3.12.4"
  }
 },
 "nbformat": 4,
 "nbformat_minor": 5
}
